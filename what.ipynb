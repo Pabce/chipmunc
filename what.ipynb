{
 "cells": [
  {
   "cell_type": "code",
   "execution_count": 1,
   "metadata": {},
   "outputs": [
    {
     "name": "stderr",
     "output_type": "stream",
     "text": [
      "2023-11-13 16:50:57.298710: W pjrt_plugin/src/mps_client.cc:534] WARNING: JAX Apple GPU support is experimental and not all JAX functionality is correctly supported!\n"
     ]
    },
    {
     "name": "stdout",
     "output_type": "stream",
     "text": [
      "Metal device set to: Apple M1 Pro\n",
      "\n",
      "systemMemory: 16.00 GB\n",
      "maxCacheSize: 5.33 GB\n",
      "\n"
     ]
    }
   ],
   "source": [
    "from pathgradient import *\n",
    "import numpy as np"
   ]
  },
  {
   "cell_type": "code",
   "execution_count": 2,
   "metadata": {},
   "outputs": [
    {
     "name": "stdout",
     "output_type": "stream",
     "text": [
      "4.4268374956718315 4.449636540098694\n",
      "0.994876200736531 7.7284676e-05\n",
      "[4.1545386] 4.449636540098694\n",
      "[4.15453833] 4.449636540098694\n",
      "[4.15453833] 4.449636540098694\n",
      "[4.15468093] 4.449636540098694\n",
      "[4.44963699] 4.449636540098694\n",
      "[4.44963686] 4.449636540098694\n",
      "[4.15453833] 4.449636540098694\n",
      "[4.44963698] 4.449636540098694\n",
      "[4.44963771] 4.449636540098694\n",
      "[4.44963669] 4.449636540098694\n",
      "[4.42141779] 4.449636540098694\n",
      "[4.42762033] 4.449636540098694\n",
      "[4.42710184] 4.449636540098694\n",
      "[4.42695593] 4.449636540098694\n",
      "[4.42688587] 4.449636540098694\n",
      "[4.426858] 4.449636540098694\n",
      "[4.426846] 4.449636540098694\n",
      "[4.42684089] 4.449636540098694\n",
      "[4.42683878] 4.449636540098694\n",
      "[4.4268379] 4.449636540098694\n",
      "[4.42683766] 4.449636540098694\n",
      "[4.42683737] 4.449636540098694\n",
      "[4.42683747] 4.449636540098694\n",
      "[4.42683748] 4.449636540098694\n",
      "[4.42683753] 4.449636540098694\n",
      "[4.4268375] 4.449636540098694\n",
      "[4.42683752] 4.449636540098694\n",
      "[4.42683749] 4.449636540098694\n",
      "[4.42683812] 4.449636540098694\n",
      "[4.42683747] 4.449636540098694\n",
      "[4.4268375] 4.449636540098694\n",
      "[4.4268375] 4.449636540098694\n",
      "[4.42683751] 4.449636540098694\n",
      "[4.4268375] 4.449636540098694\n",
      "[4.42683813] 4.449636540098694\n",
      "[4.42683749] 4.449636540098694\n",
      "[4.4268375] 4.449636540098694\n",
      "19.900119836133978\n",
      "4.44963670596432 4.449636540098694\n",
      "1.000000037276219\n"
     ]
    }
   ],
   "source": [
    "final_e = 19.9\n",
    "\n",
    "cdf = cdf_differential_decay_width(final_e, 23, DISCRETE_CONTINUUM_BOUNDARY, 0.01)\n",
    "pdf = differential_decay_width(final_e, 23, DISCRETE_CONTINUUM_BOUNDARY, 0.01)\n",
    "\n",
    "print(cdf, pdf)\n",
    "\n",
    "inv = inverse_cdf_differential_decay_width(cdf, 23, DISCRETE_CONTINUUM_BOUNDARY, 0.01)\n",
    "print(inv)\n",
    "\n",
    "print(cdf_differential_decay_width(24.6549, 23, DISCRETE_CONTINUUM_BOUNDARY, 0.01))\n"
   ]
  },
  {
   "cell_type": "code",
   "execution_count": 3,
   "metadata": {},
   "outputs": [
    {
     "name": "stdout",
     "output_type": "stream",
     "text": [
      "[0.5000001]\n"
     ]
    },
    {
     "ename": "ValueError",
     "evalue": "The array returned by a function changed size between calls",
     "output_type": "error",
     "traceback": [
      "\u001b[0;31m---------------------------------------------------------------------------\u001b[0m",
      "\u001b[0;31mValueError\u001b[0m                                Traceback (most recent call last)",
      "\u001b[1;32m/Users/pbarham/Library/CloudStorage/OneDrive-Personal/workspace/diff-deexcitation/what.ipynb Cell 3\u001b[0m line \u001b[0;36m1\n\u001b[0;32m----> <a href='vscode-notebook-cell:/Users/pbarham/Library/CloudStorage/OneDrive-Personal/workspace/diff-deexcitation/what.ipynb#W2sZmlsZQ%3D%3D?line=0'>1</a>\u001b[0m inv \u001b[39m=\u001b[39m inverse_cdf_differential_decay_width(np\u001b[39m.\u001b[39;49marray([\u001b[39m0.5\u001b[39;49m]), \u001b[39m23\u001b[39;49m, DISCRETE_CONTINUUM_BOUNDARY, \u001b[39m0.01\u001b[39;49m)\n",
      "File \u001b[0;32m~/Library/CloudStorage/OneDrive-Personal/workspace/diff-deexcitation/pathgradient.py:76\u001b[0m, in \u001b[0;36minverse_cdf_differential_decay_width\u001b[0;34m(cdf_value, initial_energy, discrete_continuum_boundary, disp_parameter)\u001b[0m\n\u001b[1;32m     73\u001b[0m x0 \u001b[39m=\u001b[39m np\u001b[39m.\u001b[39marray([\u001b[39m0.5\u001b[39m \u001b[39m*\u001b[39m (initial_energy \u001b[39m+\u001b[39m discrete_continuum_boundary)])\n\u001b[1;32m     75\u001b[0m \u001b[39m# Find the root (i.e. the inverse CDF value)\u001b[39;00m\n\u001b[0;32m---> 76\u001b[0m root_result \u001b[39m=\u001b[39m fsolve(fun, x0)\n\u001b[1;32m     78\u001b[0m \u001b[39mprint\u001b[39m(root_result)\n\u001b[1;32m     80\u001b[0m \u001b[39mreturn\u001b[39;00m root_result\u001b[39m.\u001b[39mx[\u001b[39m0\u001b[39m]\n",
      "File \u001b[0;32m~/jax-metal/lib/python3.11/site-packages/scipy/optimize/_minpack_py.py:162\u001b[0m, in \u001b[0;36mfsolve\u001b[0;34m(func, x0, args, fprime, full_output, col_deriv, xtol, maxfev, band, epsfcn, factor, diag)\u001b[0m\n\u001b[1;32m     50\u001b[0m \u001b[39m\u001b[39m\u001b[39m\"\"\"\u001b[39;00m\n\u001b[1;32m     51\u001b[0m \u001b[39mFind the roots of a function.\u001b[39;00m\n\u001b[1;32m     52\u001b[0m \n\u001b[0;32m   (...)\u001b[0m\n\u001b[1;32m    152\u001b[0m \n\u001b[1;32m    153\u001b[0m \u001b[39m\"\"\"\u001b[39;00m\n\u001b[1;32m    154\u001b[0m options \u001b[39m=\u001b[39m {\u001b[39m'\u001b[39m\u001b[39mcol_deriv\u001b[39m\u001b[39m'\u001b[39m: col_deriv,\n\u001b[1;32m    155\u001b[0m            \u001b[39m'\u001b[39m\u001b[39mxtol\u001b[39m\u001b[39m'\u001b[39m: xtol,\n\u001b[1;32m    156\u001b[0m            \u001b[39m'\u001b[39m\u001b[39mmaxfev\u001b[39m\u001b[39m'\u001b[39m: maxfev,\n\u001b[0;32m   (...)\u001b[0m\n\u001b[1;32m    159\u001b[0m            \u001b[39m'\u001b[39m\u001b[39mfactor\u001b[39m\u001b[39m'\u001b[39m: factor,\n\u001b[1;32m    160\u001b[0m            \u001b[39m'\u001b[39m\u001b[39mdiag\u001b[39m\u001b[39m'\u001b[39m: diag}\n\u001b[0;32m--> 162\u001b[0m res \u001b[39m=\u001b[39m _root_hybr(func, x0, args, jac\u001b[39m=\u001b[39;49mfprime, \u001b[39m*\u001b[39;49m\u001b[39m*\u001b[39;49moptions)\n\u001b[1;32m    163\u001b[0m \u001b[39mif\u001b[39;00m full_output:\n\u001b[1;32m    164\u001b[0m     x \u001b[39m=\u001b[39m res[\u001b[39m'\u001b[39m\u001b[39mx\u001b[39m\u001b[39m'\u001b[39m]\n",
      "File \u001b[0;32m~/jax-metal/lib/python3.11/site-packages/scipy/optimize/_minpack_py.py:239\u001b[0m, in \u001b[0;36m_root_hybr\u001b[0;34m(func, x0, args, jac, col_deriv, xtol, maxfev, band, eps, factor, diag, **unknown_options)\u001b[0m\n\u001b[1;32m    237\u001b[0m     \u001b[39mif\u001b[39;00m maxfev \u001b[39m==\u001b[39m \u001b[39m0\u001b[39m:\n\u001b[1;32m    238\u001b[0m         maxfev \u001b[39m=\u001b[39m \u001b[39m200\u001b[39m \u001b[39m*\u001b[39m (n \u001b[39m+\u001b[39m \u001b[39m1\u001b[39m)\n\u001b[0;32m--> 239\u001b[0m     retval \u001b[39m=\u001b[39m _minpack\u001b[39m.\u001b[39;49m_hybrd(func, x0, args, \u001b[39m1\u001b[39;49m, xtol, maxfev,\n\u001b[1;32m    240\u001b[0m                              ml, mu, epsfcn, factor, diag)\n\u001b[1;32m    241\u001b[0m \u001b[39melse\u001b[39;00m:\n\u001b[1;32m    242\u001b[0m     _check_func(\u001b[39m'\u001b[39m\u001b[39mfsolve\u001b[39m\u001b[39m'\u001b[39m, \u001b[39m'\u001b[39m\u001b[39mfprime\u001b[39m\u001b[39m'\u001b[39m, Dfun, x0, args, n, (n, n))\n",
      "\u001b[0;31mValueError\u001b[0m: The array returned by a function changed size between calls"
     ]
    }
   ],
   "source": []
  },
  {
   "cell_type": "code",
   "execution_count": null,
   "metadata": {},
   "outputs": [],
   "source": []
  }
 ],
 "metadata": {
  "kernelspec": {
   "display_name": "jax-metal",
   "language": "python",
   "name": "python3"
  },
  "language_info": {
   "codemirror_mode": {
    "name": "ipython",
    "version": 3
   },
   "file_extension": ".py",
   "mimetype": "text/x-python",
   "name": "python",
   "nbconvert_exporter": "python",
   "pygments_lexer": "ipython3",
   "version": "3.11.6"
  }
 },
 "nbformat": 4,
 "nbformat_minor": 2
}
